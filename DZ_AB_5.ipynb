{
  "cells": [
    {
      "cell_type": "markdown",
      "metadata": {
        "id": "lXD6EEkRKLPB"
      },
      "source": [
        "<p style=\"align: center;\"><img align=center src=\"https://mailfit.com/wp-content/uploads/2019/11/lego-5.png\"  width=900></p>\n",
        "<h1 style=\"text-align: center;\"><b>«Домашняя работа» - Множественное тестирование</b></h3>\n"
      ]
    },
    {
      "cell_type": "markdown",
      "metadata": {
        "id": "WqPX-J_iKLPD"
      },
      "source": [
        "## Импорт библиотек"
      ]
    },
    {
      "cell_type": "code",
      "execution_count": null,
      "metadata": {
        "id": "XNRP7sb8KLPD"
      },
      "outputs": [],
      "source": [
        "import numpy as np\n",
        "import pandas as pd\n",
        "\n",
        "import scipy.stats as stats\n",
        "\n",
        "import matplotlib.pyplot as plt\n",
        "import seaborn as sns\n",
        "sns.set_theme()"
      ]
    },
    {
      "cell_type": "markdown",
      "metadata": {
        "id": "N-jmx0siKLPE"
      },
      "source": [
        "## Импорт данных"
      ]
    },
    {
      "cell_type": "code",
      "execution_count": null,
      "metadata": {
        "colab": {
          "base_uri": "https://localhost:8080/",
          "height": 287
        },
        "id": "Bx_jSc9HKLPF",
        "outputId": "ad17f8db-943a-48a9-97fc-8ef218343187"
      },
      "outputs": [
        {
          "output_type": "stream",
          "name": "stdout",
          "text": [
            "Размеры датасета (6000, 9)\n"
          ]
        },
        {
          "output_type": "execute_result",
          "data": {
            "text/plain": [
              "    was_married  children        salary  sex   age     profession  \\\n",
              "id                                                                  \n",
              "0             1       4.0  4.420530e+07    1  82.0       Engineer   \n",
              "1             1       2.0  1.737490e+08    1  32.0         Doctor   \n",
              "2             1       6.0  2.489055e+08    1  14.0  Entertainment   \n",
              "3             0       1.0  1.268718e+08    0  10.0         Lawyer   \n",
              "4             1       9.0  8.596042e+07    1  99.0         Artist   \n",
              "5             1       3.0  2.474979e+06    0  21.0      Homemaker   \n",
              "\n",
              "       home_cost  drive_info  happyness  \n",
              "id                                       \n",
              "0   1.003674e+07         NaN   0.727499  \n",
              "1   1.014051e+07         0.0   0.383234  \n",
              "2   1.043318e+07         NaN   0.432142  \n",
              "3   1.004299e+07         NaN   0.377987  \n",
              "4   1.021908e+07         NaN   0.657579  \n",
              "5   1.001654e+07         1.0   0.326801  "
            ],
            "text/html": [
              "\n",
              "  <div id=\"df-c72bbb89-5020-4416-b0da-17f2e76db0d3\" class=\"colab-df-container\">\n",
              "    <div>\n",
              "<style scoped>\n",
              "    .dataframe tbody tr th:only-of-type {\n",
              "        vertical-align: middle;\n",
              "    }\n",
              "\n",
              "    .dataframe tbody tr th {\n",
              "        vertical-align: top;\n",
              "    }\n",
              "\n",
              "    .dataframe thead th {\n",
              "        text-align: right;\n",
              "    }\n",
              "</style>\n",
              "<table border=\"1\" class=\"dataframe\">\n",
              "  <thead>\n",
              "    <tr style=\"text-align: right;\">\n",
              "      <th></th>\n",
              "      <th>was_married</th>\n",
              "      <th>children</th>\n",
              "      <th>salary</th>\n",
              "      <th>sex</th>\n",
              "      <th>age</th>\n",
              "      <th>profession</th>\n",
              "      <th>home_cost</th>\n",
              "      <th>drive_info</th>\n",
              "      <th>happyness</th>\n",
              "    </tr>\n",
              "    <tr>\n",
              "      <th>id</th>\n",
              "      <th></th>\n",
              "      <th></th>\n",
              "      <th></th>\n",
              "      <th></th>\n",
              "      <th></th>\n",
              "      <th></th>\n",
              "      <th></th>\n",
              "      <th></th>\n",
              "      <th></th>\n",
              "    </tr>\n",
              "  </thead>\n",
              "  <tbody>\n",
              "    <tr>\n",
              "      <th>0</th>\n",
              "      <td>1</td>\n",
              "      <td>4.0</td>\n",
              "      <td>4.420530e+07</td>\n",
              "      <td>1</td>\n",
              "      <td>82.0</td>\n",
              "      <td>Engineer</td>\n",
              "      <td>1.003674e+07</td>\n",
              "      <td>NaN</td>\n",
              "      <td>0.727499</td>\n",
              "    </tr>\n",
              "    <tr>\n",
              "      <th>1</th>\n",
              "      <td>1</td>\n",
              "      <td>2.0</td>\n",
              "      <td>1.737490e+08</td>\n",
              "      <td>1</td>\n",
              "      <td>32.0</td>\n",
              "      <td>Doctor</td>\n",
              "      <td>1.014051e+07</td>\n",
              "      <td>0.0</td>\n",
              "      <td>0.383234</td>\n",
              "    </tr>\n",
              "    <tr>\n",
              "      <th>2</th>\n",
              "      <td>1</td>\n",
              "      <td>6.0</td>\n",
              "      <td>2.489055e+08</td>\n",
              "      <td>1</td>\n",
              "      <td>14.0</td>\n",
              "      <td>Entertainment</td>\n",
              "      <td>1.043318e+07</td>\n",
              "      <td>NaN</td>\n",
              "      <td>0.432142</td>\n",
              "    </tr>\n",
              "    <tr>\n",
              "      <th>3</th>\n",
              "      <td>0</td>\n",
              "      <td>1.0</td>\n",
              "      <td>1.268718e+08</td>\n",
              "      <td>0</td>\n",
              "      <td>10.0</td>\n",
              "      <td>Lawyer</td>\n",
              "      <td>1.004299e+07</td>\n",
              "      <td>NaN</td>\n",
              "      <td>0.377987</td>\n",
              "    </tr>\n",
              "    <tr>\n",
              "      <th>4</th>\n",
              "      <td>1</td>\n",
              "      <td>9.0</td>\n",
              "      <td>8.596042e+07</td>\n",
              "      <td>1</td>\n",
              "      <td>99.0</td>\n",
              "      <td>Artist</td>\n",
              "      <td>1.021908e+07</td>\n",
              "      <td>NaN</td>\n",
              "      <td>0.657579</td>\n",
              "    </tr>\n",
              "    <tr>\n",
              "      <th>5</th>\n",
              "      <td>1</td>\n",
              "      <td>3.0</td>\n",
              "      <td>2.474979e+06</td>\n",
              "      <td>0</td>\n",
              "      <td>21.0</td>\n",
              "      <td>Homemaker</td>\n",
              "      <td>1.001654e+07</td>\n",
              "      <td>1.0</td>\n",
              "      <td>0.326801</td>\n",
              "    </tr>\n",
              "  </tbody>\n",
              "</table>\n",
              "</div>\n",
              "    <div class=\"colab-df-buttons\">\n",
              "\n",
              "  <div class=\"colab-df-container\">\n",
              "    <button class=\"colab-df-convert\" onclick=\"convertToInteractive('df-c72bbb89-5020-4416-b0da-17f2e76db0d3')\"\n",
              "            title=\"Convert this dataframe to an interactive table.\"\n",
              "            style=\"display:none;\">\n",
              "\n",
              "  <svg xmlns=\"http://www.w3.org/2000/svg\" height=\"24px\" viewBox=\"0 -960 960 960\">\n",
              "    <path d=\"M120-120v-720h720v720H120Zm60-500h600v-160H180v160Zm220 220h160v-160H400v160Zm0 220h160v-160H400v160ZM180-400h160v-160H180v160Zm440 0h160v-160H620v160ZM180-180h160v-160H180v160Zm440 0h160v-160H620v160Z\"/>\n",
              "  </svg>\n",
              "    </button>\n",
              "\n",
              "  <style>\n",
              "    .colab-df-container {\n",
              "      display:flex;\n",
              "      gap: 12px;\n",
              "    }\n",
              "\n",
              "    .colab-df-convert {\n",
              "      background-color: #E8F0FE;\n",
              "      border: none;\n",
              "      border-radius: 50%;\n",
              "      cursor: pointer;\n",
              "      display: none;\n",
              "      fill: #1967D2;\n",
              "      height: 32px;\n",
              "      padding: 0 0 0 0;\n",
              "      width: 32px;\n",
              "    }\n",
              "\n",
              "    .colab-df-convert:hover {\n",
              "      background-color: #E2EBFA;\n",
              "      box-shadow: 0px 1px 2px rgba(60, 64, 67, 0.3), 0px 1px 3px 1px rgba(60, 64, 67, 0.15);\n",
              "      fill: #174EA6;\n",
              "    }\n",
              "\n",
              "    .colab-df-buttons div {\n",
              "      margin-bottom: 4px;\n",
              "    }\n",
              "\n",
              "    [theme=dark] .colab-df-convert {\n",
              "      background-color: #3B4455;\n",
              "      fill: #D2E3FC;\n",
              "    }\n",
              "\n",
              "    [theme=dark] .colab-df-convert:hover {\n",
              "      background-color: #434B5C;\n",
              "      box-shadow: 0px 1px 3px 1px rgba(0, 0, 0, 0.15);\n",
              "      filter: drop-shadow(0px 1px 2px rgba(0, 0, 0, 0.3));\n",
              "      fill: #FFFFFF;\n",
              "    }\n",
              "  </style>\n",
              "\n",
              "    <script>\n",
              "      const buttonEl =\n",
              "        document.querySelector('#df-c72bbb89-5020-4416-b0da-17f2e76db0d3 button.colab-df-convert');\n",
              "      buttonEl.style.display =\n",
              "        google.colab.kernel.accessAllowed ? 'block' : 'none';\n",
              "\n",
              "      async function convertToInteractive(key) {\n",
              "        const element = document.querySelector('#df-c72bbb89-5020-4416-b0da-17f2e76db0d3');\n",
              "        const dataTable =\n",
              "          await google.colab.kernel.invokeFunction('convertToInteractive',\n",
              "                                                    [key], {});\n",
              "        if (!dataTable) return;\n",
              "\n",
              "        const docLinkHtml = 'Like what you see? Visit the ' +\n",
              "          '<a target=\"_blank\" href=https://colab.research.google.com/notebooks/data_table.ipynb>data table notebook</a>'\n",
              "          + ' to learn more about interactive tables.';\n",
              "        element.innerHTML = '';\n",
              "        dataTable['output_type'] = 'display_data';\n",
              "        await google.colab.output.renderOutput(dataTable, element);\n",
              "        const docLink = document.createElement('div');\n",
              "        docLink.innerHTML = docLinkHtml;\n",
              "        element.appendChild(docLink);\n",
              "      }\n",
              "    </script>\n",
              "  </div>\n",
              "\n",
              "\n",
              "<div id=\"df-31bca651-d439-4636-b906-e7594f65e663\">\n",
              "  <button class=\"colab-df-quickchart\" onclick=\"quickchart('df-31bca651-d439-4636-b906-e7594f65e663')\"\n",
              "            title=\"Suggest charts\"\n",
              "            style=\"display:none;\">\n",
              "\n",
              "<svg xmlns=\"http://www.w3.org/2000/svg\" height=\"24px\"viewBox=\"0 0 24 24\"\n",
              "     width=\"24px\">\n",
              "    <g>\n",
              "        <path d=\"M19 3H5c-1.1 0-2 .9-2 2v14c0 1.1.9 2 2 2h14c1.1 0 2-.9 2-2V5c0-1.1-.9-2-2-2zM9 17H7v-7h2v7zm4 0h-2V7h2v10zm4 0h-2v-4h2v4z\"/>\n",
              "    </g>\n",
              "</svg>\n",
              "  </button>\n",
              "\n",
              "<style>\n",
              "  .colab-df-quickchart {\n",
              "      --bg-color: #E8F0FE;\n",
              "      --fill-color: #1967D2;\n",
              "      --hover-bg-color: #E2EBFA;\n",
              "      --hover-fill-color: #174EA6;\n",
              "      --disabled-fill-color: #AAA;\n",
              "      --disabled-bg-color: #DDD;\n",
              "  }\n",
              "\n",
              "  [theme=dark] .colab-df-quickchart {\n",
              "      --bg-color: #3B4455;\n",
              "      --fill-color: #D2E3FC;\n",
              "      --hover-bg-color: #434B5C;\n",
              "      --hover-fill-color: #FFFFFF;\n",
              "      --disabled-bg-color: #3B4455;\n",
              "      --disabled-fill-color: #666;\n",
              "  }\n",
              "\n",
              "  .colab-df-quickchart {\n",
              "    background-color: var(--bg-color);\n",
              "    border: none;\n",
              "    border-radius: 50%;\n",
              "    cursor: pointer;\n",
              "    display: none;\n",
              "    fill: var(--fill-color);\n",
              "    height: 32px;\n",
              "    padding: 0;\n",
              "    width: 32px;\n",
              "  }\n",
              "\n",
              "  .colab-df-quickchart:hover {\n",
              "    background-color: var(--hover-bg-color);\n",
              "    box-shadow: 0 1px 2px rgba(60, 64, 67, 0.3), 0 1px 3px 1px rgba(60, 64, 67, 0.15);\n",
              "    fill: var(--button-hover-fill-color);\n",
              "  }\n",
              "\n",
              "  .colab-df-quickchart-complete:disabled,\n",
              "  .colab-df-quickchart-complete:disabled:hover {\n",
              "    background-color: var(--disabled-bg-color);\n",
              "    fill: var(--disabled-fill-color);\n",
              "    box-shadow: none;\n",
              "  }\n",
              "\n",
              "  .colab-df-spinner {\n",
              "    border: 2px solid var(--fill-color);\n",
              "    border-color: transparent;\n",
              "    border-bottom-color: var(--fill-color);\n",
              "    animation:\n",
              "      spin 1s steps(1) infinite;\n",
              "  }\n",
              "\n",
              "  @keyframes spin {\n",
              "    0% {\n",
              "      border-color: transparent;\n",
              "      border-bottom-color: var(--fill-color);\n",
              "      border-left-color: var(--fill-color);\n",
              "    }\n",
              "    20% {\n",
              "      border-color: transparent;\n",
              "      border-left-color: var(--fill-color);\n",
              "      border-top-color: var(--fill-color);\n",
              "    }\n",
              "    30% {\n",
              "      border-color: transparent;\n",
              "      border-left-color: var(--fill-color);\n",
              "      border-top-color: var(--fill-color);\n",
              "      border-right-color: var(--fill-color);\n",
              "    }\n",
              "    40% {\n",
              "      border-color: transparent;\n",
              "      border-right-color: var(--fill-color);\n",
              "      border-top-color: var(--fill-color);\n",
              "    }\n",
              "    60% {\n",
              "      border-color: transparent;\n",
              "      border-right-color: var(--fill-color);\n",
              "    }\n",
              "    80% {\n",
              "      border-color: transparent;\n",
              "      border-right-color: var(--fill-color);\n",
              "      border-bottom-color: var(--fill-color);\n",
              "    }\n",
              "    90% {\n",
              "      border-color: transparent;\n",
              "      border-bottom-color: var(--fill-color);\n",
              "    }\n",
              "  }\n",
              "</style>\n",
              "\n",
              "  <script>\n",
              "    async function quickchart(key) {\n",
              "      const quickchartButtonEl =\n",
              "        document.querySelector('#' + key + ' button');\n",
              "      quickchartButtonEl.disabled = true;  // To prevent multiple clicks.\n",
              "      quickchartButtonEl.classList.add('colab-df-spinner');\n",
              "      try {\n",
              "        const charts = await google.colab.kernel.invokeFunction(\n",
              "            'suggestCharts', [key], {});\n",
              "      } catch (error) {\n",
              "        console.error('Error during call to suggestCharts:', error);\n",
              "      }\n",
              "      quickchartButtonEl.classList.remove('colab-df-spinner');\n",
              "      quickchartButtonEl.classList.add('colab-df-quickchart-complete');\n",
              "    }\n",
              "    (() => {\n",
              "      let quickchartButtonEl =\n",
              "        document.querySelector('#df-31bca651-d439-4636-b906-e7594f65e663 button');\n",
              "      quickchartButtonEl.style.display =\n",
              "        google.colab.kernel.accessAllowed ? 'block' : 'none';\n",
              "    })();\n",
              "  </script>\n",
              "</div>\n",
              "    </div>\n",
              "  </div>\n"
            ],
            "application/vnd.google.colaboratory.intrinsic+json": {
              "type": "dataframe",
              "variable_name": "data",
              "summary": "{\n  \"name\": \"data\",\n  \"rows\": 6000,\n  \"fields\": [\n    {\n      \"column\": \"id\",\n      \"properties\": {\n        \"dtype\": \"number\",\n        \"std\": 1670,\n        \"min\": 0,\n        \"max\": 5499,\n        \"num_unique_values\": 5500,\n        \"samples\": [\n          4747,\n          1199,\n          5222\n        ],\n        \"semantic_type\": \"\",\n        \"description\": \"\"\n      }\n    },\n    {\n      \"column\": \"was_married\",\n      \"properties\": {\n        \"dtype\": \"number\",\n        \"std\": 0,\n        \"min\": 0,\n        \"max\": 1,\n        \"num_unique_values\": 2,\n        \"samples\": [\n          0,\n          1\n        ],\n        \"semantic_type\": \"\",\n        \"description\": \"\"\n      }\n    },\n    {\n      \"column\": \"children\",\n      \"properties\": {\n        \"dtype\": \"number\",\n        \"std\": 2.850284662859503,\n        \"min\": 0.0,\n        \"max\": 9.0,\n        \"num_unique_values\": 7,\n        \"samples\": [\n          4.0,\n          2.0\n        ],\n        \"semantic_type\": \"\",\n        \"description\": \"\"\n      }\n    },\n    {\n      \"column\": \"salary\",\n      \"properties\": {\n        \"dtype\": \"number\",\n        \"std\": 80221297.05740306,\n        \"min\": 1765712.353619084,\n        \"max\": 345927135.61149085,\n        \"num_unique_values\": 6000,\n        \"samples\": [\n          2030148.992508214,\n          23526409.701305974\n        ],\n        \"semantic_type\": \"\",\n        \"description\": \"\"\n      }\n    },\n    {\n      \"column\": \"sex\",\n      \"properties\": {\n        \"dtype\": \"number\",\n        \"std\": 0,\n        \"min\": 0,\n        \"max\": 1,\n        \"num_unique_values\": 2,\n        \"samples\": [\n          0,\n          1\n        ],\n        \"semantic_type\": \"\",\n        \"description\": \"\"\n      }\n    },\n    {\n      \"column\": \"age\",\n      \"properties\": {\n        \"dtype\": \"number\",\n        \"std\": 32.546372044788164,\n        \"min\": 2.0,\n        \"max\": 100.0,\n        \"num_unique_values\": 20,\n        \"samples\": [\n          82.0,\n          33.0\n        ],\n        \"semantic_type\": \"\",\n        \"description\": \"\"\n      }\n    },\n    {\n      \"column\": \"profession\",\n      \"properties\": {\n        \"dtype\": \"category\",\n        \"num_unique_values\": 9,\n        \"samples\": [\n          \"Healthcare\",\n          \"Doctor\"\n        ],\n        \"semantic_type\": \"\",\n        \"description\": \"\"\n      }\n    },\n    {\n      \"column\": \"home_cost\",\n      \"properties\": {\n        \"dtype\": \"number\",\n        \"std\": 312006.64268940827,\n        \"min\": 9824378.17956564,\n        \"max\": 20657915.51438855,\n        \"num_unique_values\": 5500,\n        \"samples\": [\n          10142087.622610103,\n          10127959.182073647\n        ],\n        \"semantic_type\": \"\",\n        \"description\": \"\"\n      }\n    },\n    {\n      \"column\": \"drive_info\",\n      \"properties\": {\n        \"dtype\": \"number\",\n        \"std\": 0.44449225551941024,\n        \"min\": 0.0,\n        \"max\": 1.0,\n        \"num_unique_values\": 2,\n        \"samples\": [\n          1.0,\n          0.0\n        ],\n        \"semantic_type\": \"\",\n        \"description\": \"\"\n      }\n    },\n    {\n      \"column\": \"happyness\",\n      \"properties\": {\n        \"dtype\": \"number\",\n        \"std\": 0.15372650797965168,\n        \"min\": 0.0,\n        \"max\": 1.0,\n        \"num_unique_values\": 6000,\n        \"samples\": [\n          0.4489957391292867,\n          0.4275951511826555\n        ],\n        \"semantic_type\": \"\",\n        \"description\": \"\"\n      }\n    }\n  ]\n}"
            }
          },
          "metadata": {},
          "execution_count": 2
        }
      ],
      "source": [
        "data_path = \"https://raw.githubusercontent.com/a-milenkin/mipt_data_science_2021/main/data/people_data_clustering.csv\"\n",
        "data = pd.read_csv(data_path, index_col=0)\n",
        "print(\"Размеры датасета\", data.shape)\n",
        "data.head(6)"
      ]
    },
    {
      "cell_type": "markdown",
      "metadata": {
        "id": "zOZFtKkOKLPF"
      },
      "source": [
        "<div class=\"alert alert-info\">\n",
        "<b>Про Датасет</b>\n",
        "    \n",
        "Датасет представляет собой информацию по жителям некоторого города.\n",
        "\n",
        "* `was_married` - Был ли когда-либо женат/замужем\n",
        "* `children` - Количество детей\n",
        "* `salary` - Уровень зарплаты\n",
        "* `sex` - Пол (0 - женщина, 1 - мужчина)\n",
        "* `age` - Возраст\n",
        "* `home_cost` - Сумарная стоимость жилья/недвижимости\n",
        "* `Professon` - Профессия\n",
        "* `drive_info` - Есть ли водительские права\n",
        "* `happyness` - уровень счастья по результатам опроса\n",
        "    \n",
        "</div>"
      ]
    },
    {
      "cell_type": "code",
      "execution_count": null,
      "metadata": {
        "id": "GxNc01ZRKLPF"
      },
      "outputs": [],
      "source": []
    },
    {
      "cell_type": "markdown",
      "metadata": {
        "id": "quEZQoV6KLPG"
      },
      "source": [
        "<div class=\"alert alert-info\">\n",
        "<b>Задание</b>\n",
        "\n",
        "Изучить датасет, выполнить задания и проверить некоторые гипотезы, предложенные ниже, опираясь уже **НЕ** только на визуализацию. Само задание выполнить на языке **Python**.\n",
        "   "
      ]
    },
    {
      "cell_type": "code",
      "execution_count": null,
      "metadata": {
        "id": "jnTaHYNpKLPG"
      },
      "outputs": [],
      "source": []
    },
    {
      "cell_type": "markdown",
      "metadata": {
        "id": "rmY98MkGKLPG"
      },
      "source": [
        "# Чистка датасета\n",
        "* Есть ли дубли в данных? Если есть - удалить (drop_duplicates).\n",
        "* Есть ли пропуски в данных? Если есть - удалить столбцы, в которых они есть. (dropna())\n",
        "* Найти и удалить/отфильтровать выбросы по признаку `home_cost`. Сколько их?"
      ]
    },
    {
      "cell_type": "code",
      "execution_count": null,
      "metadata": {
        "colab": {
          "base_uri": "https://localhost:8080/"
        },
        "id": "Wv5Lvl9nKLPG",
        "outputId": "4087410a-015f-48d5-d530-949b06f0daff"
      },
      "outputs": [
        {
          "output_type": "execute_result",
          "data": {
            "text/plain": [
              "5995"
            ]
          },
          "metadata": {},
          "execution_count": 11
        }
      ],
      "source": [
        "data = data.drop_duplicates()\n",
        "data.drop('drive_info', axis = 1)\n",
        "data = data[data['home_cost'] < 17000000]\n",
        "len(data)\n",
        "# пропусков 5"
      ]
    },
    {
      "cell_type": "markdown",
      "metadata": {
        "id": "uY2YfrLgKLPH"
      },
      "source": [
        "# Проверка гипотез"
      ]
    },
    {
      "cell_type": "markdown",
      "metadata": {
        "id": "SJ-QeNTLKLPH"
      },
      "source": [
        "# Изучение датасета\n",
        "* Какие признаки численные?\n",
        "* Какие признаки категориальные?\n",
        "* Какие признаки имеют нормальное распределение?\n",
        "* Какие признаки бессмысленные?"
      ]
    },
    {
      "cell_type": "markdown",
      "metadata": {
        "id": "qLvrNgHwKLPH"
      },
      "source": [
        "<div class=\"alert alert-info\">\n",
        "\n",
        "<b>Задание:</b>    \n",
        "    \n",
        "Перед вами уже знакомый датасет, который был дан в прошлых домашних заданиях. Вы уже научились применить подходящий статистический критерий для двух групп, теперь вам предстоит научиться верно применять критерии для нескольких групп одновременно.\n",
        "    "
      ]
    },
    {
      "cell_type": "markdown",
      "metadata": {
        "id": "aM1p-MoMKLPH"
      },
      "source": [
        "<div class=\"alert alert-warning\">\n",
        "    \n",
        "* Правда ли между представителями таких профессий как, **Homemaker**, **Marketing**, **Healthcare** и **Executive** в среднем  зарплаты не отличаются между собой? Ответ подкрепите визуализацией и подходящим статистическим критерием."
      ]
    },
    {
      "cell_type": "code",
      "execution_count": null,
      "metadata": {
        "colab": {
          "base_uri": "https://localhost:8080/"
        },
        "id": "okKVEwlOKLPH",
        "outputId": "6dbd0778-59a0-4fa2-8141-4aa06d8123f9"
      },
      "outputs": [
        {
          "output_type": "stream",
          "name": "stdout",
          "text": [
            "Разница есть, зарплаты отличаются\n"
          ]
        }
      ],
      "source": [
        "alpha = 0.05\n",
        "data_home = data['salary'][data['profession'] == 'Homemaker']\n",
        "data_mark = data['salary'][data['profession'] == 'Marketing']\n",
        "data_heal = data['salary'][data['profession'] == 'Healthcare']\n",
        "data_exec = data['salary'][data['profession'] == 'Executive']\n",
        "statist, p_val = stats.f_oneway(data_home, data_mark, data_heal, data_exec)\n",
        "if p_val > alpha:\n",
        "  print('Разницы в зарплатах нет')\n",
        "else:\n",
        "  print('Разница есть, зарплаты отличаются')"
      ]
    },
    {
      "cell_type": "code",
      "source": [
        "prep_data = data[data['profession'].isin(['Homemaker', 'Marketing', 'Healthcare', 'Executive'])]\n",
        "sns.boxplot(data = prep_data, x='profession', y= 'salary')"
      ],
      "metadata": {
        "colab": {
          "base_uri": "https://localhost:8080/",
          "height": 492
        },
        "id": "Q5LXjfReEY0l",
        "outputId": "2b808b40-d65b-423a-841f-d4400206ec36"
      },
      "execution_count": null,
      "outputs": [
        {
          "output_type": "execute_result",
          "data": {
            "text/plain": [
              "<Axes: xlabel='profession', ylabel='salary'>"
            ]
          },
          "metadata": {},
          "execution_count": 18
        },
        {
          "output_type": "display_data",
          "data": {
            "text/plain": [
              "<Figure size 640x480 with 1 Axes>"
            ],
            "image/png": "[encoded data removed]"
          },
          "metadata": {}
        }
      ]
    },
    {
      "cell_type": "markdown",
      "metadata": {
        "id": "aRby3_wGKLPH"
      },
      "source": [
        "<div class=\"alert alert-warning\">\n",
        "    \n",
        "* Правда ли между представителями таких профессий как, **Doctor**, **Entertainment** и **Lawyer** в среднем  зарплаты не отличаются между собой? Ответ подкрепите визуализацией и подходящим статистическим критерием."
      ]
    },
    {
      "cell_type": "code",
      "execution_count": null,
      "metadata": {
        "colab": {
          "base_uri": "https://localhost:8080/"
        },
        "id": "5Uo2LW2AKLPH",
        "outputId": "b9a23ef3-3db6-40eb-8d95-a7e697d99d96"
      },
      "outputs": [
        {
          "output_type": "stream",
          "name": "stdout",
          "text": [
            "Разница есть, зарплаты отличаются\n"
          ]
        }
      ],
      "source": [
        "alpha = 0.05\n",
        "data_doct = data['salary'][data['profession'] == 'Doctor']\n",
        "data_ente = data['salary'][data['profession'] == 'Entertainment']\n",
        "data_lawy = data['salary'][data['profession'] == 'Lawyer']\n",
        "\n",
        "statist, p_val = stats.kruskal(data_doct, data_ente, data_lawy)\n",
        "if p_val > alpha:\n",
        "  print('Разницы в зарплатах нет')\n",
        "else:\n",
        "  print('Разница есть, зарплаты отличаются')"
      ]
    },
    {
      "cell_type": "code",
      "source": [
        "prep_data = data[data['profession'].isin(['Doctor', 'Entertainment', 'Lawyer'])]\n",
        "sns.displot(prep_data, x='salary', hue= 'profession')"
      ],
      "metadata": {
        "colab": {
          "base_uri": "https://localhost:8080/",
          "height": 519
        },
        "id": "37FcjvMXGOSG",
        "outputId": "dcc65d08-7d1a-4f76-cd8a-f5564ccd41c4"
      },
      "execution_count": null,
      "outputs": [
        {
          "output_type": "execute_result",
          "data": {
            "text/plain": [
              "<seaborn.axisgrid.FacetGrid at 0x7f88788b9f60>"
            ]
          },
          "metadata": {},
          "execution_count": 27
        },
        {
          "output_type": "display_data",
          "data": {
            "text/plain": [
              "<Figure size 665.375x500 with 1 Axes>"
            ],
            "image/png": "[encoded data removed]"
          },
          "metadata": {}
        }
      ]
    },
    {
      "cell_type": "markdown",
      "metadata": {
        "id": "kLhSlvVAKLPH"
      },
      "source": [
        "<div class=\"alert alert-warning\">\n",
        "    \n",
        "Допустим вы рассматриваете 4 группы населения, отличающихся количеством  детей. Группы следующие.\n",
        "* **A** - нет детей\n",
        "* **B** - 1 ребенок\n",
        "* **C** - от 2 до 4 детей\n",
        "* **D** - от 5 детей    \n",
        "    \n",
        "    \n",
        "* Правда ли, что эти группы отличаются статистически значимо по уровню дохода и уровню счастья? Ответ поддержите статистическими критериями и визуализацией"
      ]
    },
    {
      "cell_type": "code",
      "execution_count": null,
      "metadata": {
        "colab": {
          "base_uri": "https://localhost:8080/"
        },
        "id": "enR5bMAZKLPH",
        "outputId": "d2cc5a4d-c44c-4d59-ed59-fe468529338b"
      },
      "outputs": [
        {
          "output_type": "stream",
          "name": "stdout",
          "text": [
            "Разница есть, зарплаты отличаются\n",
            "Разница есть, уровни счастья  отличаются\n"
          ]
        }
      ],
      "source": [
        "alpha = 0.05\n",
        "data_non = data['salary'][data['children'] == 0]\n",
        "data_low = data['salary'][data['children'] == 1]\n",
        "data_medi = data['salary'][(data['children'] > 1) & (data['children'] < 5)]\n",
        "data_hard = data['salary'][data['children'] > 5]\n",
        "statist, p_val = stats.f_oneway(data_non, data_low, data_medi, data_hard)\n",
        "if p_val > alpha:\n",
        "  print('Разницы в зарплатах нет')\n",
        "else:\n",
        "  print('Разница есть, зарплаты отличаются')\n",
        "data_non1 = data['happyness'][data['children'] == 0]\n",
        "data_low1 = data['happyness'][data['children'] == 1]\n",
        "data_medi1 = data['happyness'][(data['children'] > 1) & (data['children'] < 5)]\n",
        "data_hard1 = data['happyness'][data['children'] > 5]\n",
        "statist, p_val = stats.f_oneway(data_non1, data_low1, data_medi1, data_hard1)\n",
        "if p_val > alpha:\n",
        "  print('Разницы в уровне счастья нет')\n",
        "else:\n",
        "  print('Разница есть, уровни счастья  отличаются')\n"
      ]
    },
    {
      "cell_type": "code",
      "source": [
        "def children_group(x):\n",
        "  if x == 0:\n",
        "    return 'No kids'\n",
        "  elif x == 1:\n",
        "    return 'One kid'\n",
        "  elif x > 1 and x < 5:\n",
        "    return 'Several kids'\n",
        "  else:\n",
        "    return 'A lot of kids'\n",
        "data['children_gr'] = data['children'].apply(children_group)"
      ],
      "metadata": {
        "id": "h7AE7j1GIA4N"
      },
      "execution_count": null,
      "outputs": []
    },
    {
      "cell_type": "code",
      "source": [
        "sns.boxplot(data= data, x='children_gr', y= 'salary')"
      ],
      "metadata": {
        "colab": {
          "base_uri": "https://localhost:8080/",
          "height": 492
        },
        "id": "Mu7mNELNVl_7",
        "outputId": "31478a75-a508-4ec3-8aff-458d3650868c"
      },
      "execution_count": null,
      "outputs": [
        {
          "output_type": "execute_result",
          "data": {
            "text/plain": [
              "<Axes: xlabel='children_gr', ylabel='salary'>"
            ]
          },
          "metadata": {},
          "execution_count": 8
        },
        {
          "output_type": "display_data",
          "data": {
            "text/plain": [
              "<Figure size 640x480 with 1 Axes>"
            ],
            "image/png": "[encoded data removed]"
          },
          "metadata": {}
        }
      ]
    },
    {
      "cell_type": "code",
      "source": [
        "sns.boxplot(data= data, x='children_gr', y= 'happyness')"
      ],
      "metadata": {
        "id": "I42QTPDQJYcT",
        "outputId": "c714e643-6bf1-49ba-b396-535b1ac97d88",
        "colab": {
          "base_uri": "https://localhost:8080/",
          "height": 476
        }
      },
      "execution_count": null,
      "outputs": [
        {
          "output_type": "execute_result",
          "data": {
            "text/plain": [
              "<Axes: xlabel='children_gr', ylabel='happyness'>"
            ]
          },
          "metadata": {},
          "execution_count": 9
        },
        {
          "output_type": "display_data",
          "data": {
            "text/plain": [
              "<Figure size 640x480 with 1 Axes>"
            ],
            "image/png": "[encoded data removed]"
          },
          "metadata": {}
        }
      ]
    }
  ],
  "metadata": {
    "kernelspec": {
      "display_name": "Python 3",
      "language": "python",
      "name": "python3"
    },
    "language_info": {
      "codemirror_mode": {
        "name": "ipython",
        "version": 3
      },
      "file_extension": ".py",
      "mimetype": "text/x-python",
      "name": "python",
      "nbconvert_exporter": "python",
      "pygments_lexer": "ipython3",
      "version": "3.8.5"
    },
    "toc": {
      "base_numbering": 1,
      "nav_menu": {},
      "number_sections": true,
      "sideBar": true,
      "skip_h1_title": false,
      "title_cell": "Table of Contents",
      "title_sidebar": "Contents",
      "toc_cell": false,
      "toc_position": {},
      "toc_section_display": true,
      "toc_window_display": false
    },
    "colab": {
      "provenance": []
    }
  },
  "nbformat": 4,
  "nbformat_minor": 0
}