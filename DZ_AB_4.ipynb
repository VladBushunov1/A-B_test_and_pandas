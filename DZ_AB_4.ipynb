{
  "cells": [
    {
      "cell_type": "markdown",
      "metadata": {
        "id": "nMrZ7xGmEJzi"
      },
      "source": [
        "<p style=\"align: center;\"><img align=center src=\"https://mailfit.com/wp-content/uploads/2019/11/lego-5.png\"  width=900></p>\n",
        "<h1 style=\"text-align: center;\"><b>«Домашняя работа»</b></h3>\n"
      ]
    },
    {
      "cell_type": "markdown",
      "metadata": {
        "id": "Qp0uZRYGEJzk"
      },
      "source": [
        "## Импорт Библиотек"
      ]
    },
    {
      "cell_type": "code",
      "execution_count": null,
      "metadata": {
        "id": "vDVo7IdQEJzl"
      },
      "outputs": [],
      "source": [
        "import numpy as np\n",
        "import pandas as pd\n",
        "\n",
        "import scipy.stats as stats\n",
        "\n",
        "import matplotlib.pyplot as plt\n",
        "import seaborn as sns\n",
        "sns.set_theme()"
      ]
    },
    {
      "cell_type": "markdown",
      "metadata": {
        "id": "xqHzVSgVEJzm"
      },
      "source": [
        "## Импорт данных"
      ]
    },
    {
      "cell_type": "code",
      "execution_count": null,
      "metadata": {
        "colab": {
          "base_uri": "https://localhost:8080/",
          "height": 287
        },
        "id": "KwQnJtBaEJzm",
        "outputId": "bf597a25-b2f3-4249-ba22-f73cb0d14e87"
      },
      "outputs": [
        {
          "output_type": "stream",
          "name": "stdout",
          "text": [
            "Размеры датасета (6000, 9)\n"
          ]
        },
        {
          "output_type": "execute_result",
          "data": {
            "text/plain": [
              "    was_married  children        salary  sex   age     profession  \\\n",
              "id                                                                  \n",
              "0             1       4.0  4.420530e+07    1  82.0       Engineer   \n",
              "1             1       2.0  1.737490e+08    1  32.0         Doctor   \n",
              "2             1       6.0  2.489055e+08    1  14.0  Entertainment   \n",
              "3             0       1.0  1.268718e+08    0  10.0         Lawyer   \n",
              "4             1       9.0  8.596042e+07    1  99.0         Artist   \n",
              "5             1       3.0  2.474979e+06    0  21.0      Homemaker   \n",
              "\n",
              "       home_cost  drive_info  happyness  \n",
              "id                                       \n",
              "0   1.003674e+07         NaN   0.727499  \n",
              "1   1.014051e+07         0.0   0.383234  \n",
              "2   1.043318e+07         NaN   0.432142  \n",
              "3   1.004299e+07         NaN   0.377987  \n",
              "4   1.021908e+07         NaN   0.657579  \n",
              "5   1.001654e+07         1.0   0.326801  "
            ],
            "text/html": [
              "\n",
              "  <div id=\"df-df4d7b28-2e45-4c47-a6c2-60ad6f5c8025\" class=\"colab-df-container\">\n",
              "    <div>\n",
              "<style scoped>\n",
              "    .dataframe tbody tr th:only-of-type {\n",
              "        vertical-align: middle;\n",
              "    }\n",
              "\n",
              "    .dataframe tbody tr th {\n",
              "        vertical-align: top;\n",
              "    }\n",
              "\n",
              "    .dataframe thead th {\n",
              "        text-align: right;\n",
              "    }\n",
              "</style>\n",
              "<table border=\"1\" class=\"dataframe\">\n",
              "  <thead>\n",
              "    <tr style=\"text-align: right;\">\n",
              "      <th></th>\n",
              "      <th>was_married</th>\n",
              "      <th>children</th>\n",
              "      <th>salary</th>\n",
              "      <th>sex</th>\n",
              "      <th>age</th>\n",
              "      <th>profession</th>\n",
              "      <th>home_cost</th>\n",
              "      <th>drive_info</th>\n",
              "      <th>happyness</th>\n",
              "    </tr>\n",
              "    <tr>\n",
              "      <th>id</th>\n",
              "      <th></th>\n",
              "      <th></th>\n",
              "      <th></th>\n",
              "      <th></th>\n",
              "      <th></th>\n",
              "      <th></th>\n",
              "      <th></th>\n",
              "      <th></th>\n",
              "      <th></th>\n",
              "    </tr>\n",
              "  </thead>\n",
              "  <tbody>\n",
              "    <tr>\n",
              "      <th>0</th>\n",
              "      <td>1</td>\n",
              "      <td>4.0</td>\n",
              "      <td>4.420530e+07</td>\n",
              "      <td>1</td>\n",
              "      <td>82.0</td>\n",
              "      <td>Engineer</td>\n",
              "      <td>1.003674e+07</td>\n",
              "      <td>NaN</td>\n",
              "      <td>0.727499</td>\n",
              "    </tr>\n",
              "    <tr>\n",
              "      <th>1</th>\n",
              "      <td>1</td>\n",
              "      <td>2.0</td>\n",
              "      <td>1.737490e+08</td>\n",
              "      <td>1</td>\n",
              "      <td>32.0</td>\n",
              "      <td>Doctor</td>\n",
              "      <td>1.014051e+07</td>\n",
              "      <td>0.0</td>\n",
              "      <td>0.383234</td>\n",
              "    </tr>\n",
              "    <tr>\n",
              "      <th>2</th>\n",
              "      <td>1</td>\n",
              "      <td>6.0</td>\n",
              "      <td>2.489055e+08</td>\n",
              "      <td>1</td>\n",
              "      <td>14.0</td>\n",
              "      <td>Entertainment</td>\n",
              "      <td>1.043318e+07</td>\n",
              "      <td>NaN</td>\n",
              "      <td>0.432142</td>\n",
              "    </tr>\n",
              "    <tr>\n",
              "      <th>3</th>\n",
              "      <td>0</td>\n",
              "      <td>1.0</td>\n",
              "      <td>1.268718e+08</td>\n",
              "      <td>0</td>\n",
              "      <td>10.0</td>\n",
              "      <td>Lawyer</td>\n",
              "      <td>1.004299e+07</td>\n",
              "      <td>NaN</td>\n",
              "      <td>0.377987</td>\n",
              "    </tr>\n",
              "    <tr>\n",
              "      <th>4</th>\n",
              "      <td>1</td>\n",
              "      <td>9.0</td>\n",
              "      <td>8.596042e+07</td>\n",
              "      <td>1</td>\n",
              "      <td>99.0</td>\n",
              "      <td>Artist</td>\n",
              "      <td>1.021908e+07</td>\n",
              "      <td>NaN</td>\n",
              "      <td>0.657579</td>\n",
              "    </tr>\n",
              "    <tr>\n",
              "      <th>5</th>\n",
              "      <td>1</td>\n",
              "      <td>3.0</td>\n",
              "      <td>2.474979e+06</td>\n",
              "      <td>0</td>\n",
              "      <td>21.0</td>\n",
              "      <td>Homemaker</td>\n",
              "      <td>1.001654e+07</td>\n",
              "      <td>1.0</td>\n",
              "      <td>0.326801</td>\n",
              "    </tr>\n",
              "  </tbody>\n",
              "</table>\n",
              "</div>\n",
              "    <div class=\"colab-df-buttons\">\n",
              "\n",
              "  <div class=\"colab-df-container\">\n",
              "    <button class=\"colab-df-convert\" onclick=\"convertToInteractive('df-df4d7b28-2e45-4c47-a6c2-60ad6f5c8025')\"\n",
              "            title=\"Convert this dataframe to an interactive table.\"\n",
              "            style=\"display:none;\">\n",
              "\n",
              "  <svg xmlns=\"http://www.w3.org/2000/svg\" height=\"24px\" viewBox=\"0 -960 960 960\">\n",
              "    <path d=\"M120-120v-720h720v720H120Zm60-500h600v-160H180v160Zm220 220h160v-160H400v160Zm0 220h160v-160H400v160ZM180-400h160v-160H180v160Zm440 0h160v-160H620v160ZM180-180h160v-160H180v160Zm440 0h160v-160H620v160Z\"/>\n",
              "  </svg>\n",
              "    </button>\n",
              "\n",
              "  <style>\n",
              "    .colab-df-container {\n",
              "      display:flex;\n",
              "      gap: 12px;\n",
              "    }\n",
              "\n",
              "    .colab-df-convert {\n",
              "      background-color: #E8F0FE;\n",
              "      border: none;\n",
              "      border-radius: 50%;\n",
              "      cursor: pointer;\n",
              "      display: none;\n",
              "      fill: #1967D2;\n",
              "      height: 32px;\n",
              "      padding: 0 0 0 0;\n",
              "      width: 32px;\n",
              "    }\n",
              "\n",
              "    .colab-df-convert:hover {\n",
              "      background-color: #E2EBFA;\n",
              "      box-shadow: 0px 1px 2px rgba(60, 64, 67, 0.3), 0px 1px 3px 1px rgba(60, 64, 67, 0.15);\n",
              "      fill: #174EA6;\n",
              "    }\n",
              "\n",
              "    .colab-df-buttons div {\n",
              "      margin-bottom: 4px;\n",
              "    }\n",
              "\n",
              "    [theme=dark] .colab-df-convert {\n",
              "      background-color: #3B4455;\n",
              "      fill: #D2E3FC;\n",
              "    }\n",
              "\n",
              "    [theme=dark] .colab-df-convert:hover {\n",
              "      background-color: #434B5C;\n",
              "      box-shadow: 0px 1px 3px 1px rgba(0, 0, 0, 0.15);\n",
              "      filter: drop-shadow(0px 1px 2px rgba(0, 0, 0, 0.3));\n",
              "      fill: #FFFFFF;\n",
              "    }\n",
              "  </style>\n",
              "\n",
              "    <script>\n",
              "      const buttonEl =\n",
              "        document.querySelector('#df-df4d7b28-2e45-4c47-a6c2-60ad6f5c8025 button.colab-df-convert');\n",
              "      buttonEl.style.display =\n",
              "        google.colab.kernel.accessAllowed ? 'block' : 'none';\n",
              "\n",
              "      async function convertToInteractive(key) {\n",
              "        const element = document.querySelector('#df-df4d7b28-2e45-4c47-a6c2-60ad6f5c8025');\n",
              "        const dataTable =\n",
              "          await google.colab.kernel.invokeFunction('convertToInteractive',\n",
              "                                                    [key], {});\n",
              "        if (!dataTable) return;\n",
              "\n",
              "        const docLinkHtml = 'Like what you see? Visit the ' +\n",
              "          '<a target=\"_blank\" href=https://colab.research.google.com/notebooks/data_table.ipynb>data table notebook</a>'\n",
              "          + ' to learn more about interactive tables.';\n",
              "        element.innerHTML = '';\n",
              "        dataTable['output_type'] = 'display_data';\n",
              "        await google.colab.output.renderOutput(dataTable, element);\n",
              "        const docLink = document.createElement('div');\n",
              "        docLink.innerHTML = docLinkHtml;\n",
              "        element.appendChild(docLink);\n",
              "      }\n",
              "    </script>\n",
              "  </div>\n",
              "\n",
              "\n",
              "<div id=\"df-fb1577d6-7936-4d63-8485-f8bedd2a5d31\">\n",
              "  <button class=\"colab-df-quickchart\" onclick=\"quickchart('df-fb1577d6-7936-4d63-8485-f8bedd2a5d31')\"\n",
              "            title=\"Suggest charts\"\n",
              "            style=\"display:none;\">\n",
              "\n",
              "<svg xmlns=\"http://www.w3.org/2000/svg\" height=\"24px\"viewBox=\"0 0 24 24\"\n",
              "     width=\"24px\">\n",
              "    <g>\n",
              "        <path d=\"M19 3H5c-1.1 0-2 .9-2 2v14c0 1.1.9 2 2 2h14c1.1 0 2-.9 2-2V5c0-1.1-.9-2-2-2zM9 17H7v-7h2v7zm4 0h-2V7h2v10zm4 0h-2v-4h2v4z\"/>\n",
              "    </g>\n",
              "</svg>\n",
              "  </button>\n",
              "\n",
              "<style>\n",
              "  .colab-df-quickchart {\n",
              "      --bg-color: #E8F0FE;\n",
              "      --fill-color: #1967D2;\n",
              "      --hover-bg-color: #E2EBFA;\n",
              "      --hover-fill-color: #174EA6;\n",
              "      --disabled-fill-color: #AAA;\n",
              "      --disabled-bg-color: #DDD;\n",
              "  }\n",
              "\n",
              "  [theme=dark] .colab-df-quickchart {\n",
              "      --bg-color: #3B4455;\n",
              "      --fill-color: #D2E3FC;\n",
              "      --hover-bg-color: #434B5C;\n",
              "      --hover-fill-color: #FFFFFF;\n",
              "      --disabled-bg-color: #3B4455;\n",
              "      --disabled-fill-color: #666;\n",
              "  }\n",
              "\n",
              "  .colab-df-quickchart {\n",
              "    background-color: var(--bg-color);\n",
              "    border: none;\n",
              "    border-radius: 50%;\n",
              "    cursor: pointer;\n",
              "    display: none;\n",
              "    fill: var(--fill-color);\n",
              "    height: 32px;\n",
              "    padding: 0;\n",
              "    width: 32px;\n",
              "  }\n",
              "\n",
              "  .colab-df-quickchart:hover {\n",
              "    background-color: var(--hover-bg-color);\n",
              "    box-shadow: 0 1px 2px rgba(60, 64, 67, 0.3), 0 1px 3px 1px rgba(60, 64, 67, 0.15);\n",
              "    fill: var(--button-hover-fill-color);\n",
              "  }\n",
              "\n",
              "  .colab-df-quickchart-complete:disabled,\n",
              "  .colab-df-quickchart-complete:disabled:hover {\n",
              "    background-color: var(--disabled-bg-color);\n",
              "    fill: var(--disabled-fill-color);\n",
              "    box-shadow: none;\n",
              "  }\n",
              "\n",
              "  .colab-df-spinner {\n",
              "    border: 2px solid var(--fill-color);\n",
              "    border-color: transparent;\n",
              "    border-bottom-color: var(--fill-color);\n",
              "    animation:\n",
              "      spin 1s steps(1) infinite;\n",
              "  }\n",
              "\n",
              "  @keyframes spin {\n",
              "    0% {\n",
              "      border-color: transparent;\n",
              "      border-bottom-color: var(--fill-color);\n",
              "      border-left-color: var(--fill-color);\n",
              "    }\n",
              "    20% {\n",
              "      border-color: transparent;\n",
              "      border-left-color: var(--fill-color);\n",
              "      border-top-color: var(--fill-color);\n",
              "    }\n",
              "    30% {\n",
              "      border-color: transparent;\n",
              "      border-left-color: var(--fill-color);\n",
              "      border-top-color: var(--fill-color);\n",
              "      border-right-color: var(--fill-color);\n",
              "    }\n",
              "    40% {\n",
              "      border-color: transparent;\n",
              "      border-right-color: var(--fill-color);\n",
              "      border-top-color: var(--fill-color);\n",
              "    }\n",
              "    60% {\n",
              "      border-color: transparent;\n",
              "      border-right-color: var(--fill-color);\n",
              "    }\n",
              "    80% {\n",
              "      border-color: transparent;\n",
              "      border-right-color: var(--fill-color);\n",
              "      border-bottom-color: var(--fill-color);\n",
              "    }\n",
              "    90% {\n",
              "      border-color: transparent;\n",
              "      border-bottom-color: var(--fill-color);\n",
              "    }\n",
              "  }\n",
              "</style>\n",
              "\n",
              "  <script>\n",
              "    async function quickchart(key) {\n",
              "      const quickchartButtonEl =\n",
              "        document.querySelector('#' + key + ' button');\n",
              "      quickchartButtonEl.disabled = true;  // To prevent multiple clicks.\n",
              "      quickchartButtonEl.classList.add('colab-df-spinner');\n",
              "      try {\n",
              "        const charts = await google.colab.kernel.invokeFunction(\n",
              "            'suggestCharts', [key], {});\n",
              "      } catch (error) {\n",
              "        console.error('Error during call to suggestCharts:', error);\n",
              "      }\n",
              "      quickchartButtonEl.classList.remove('colab-df-spinner');\n",
              "      quickchartButtonEl.classList.add('colab-df-quickchart-complete');\n",
              "    }\n",
              "    (() => {\n",
              "      let quickchartButtonEl =\n",
              "        document.querySelector('#df-fb1577d6-7936-4d63-8485-f8bedd2a5d31 button');\n",
              "      quickchartButtonEl.style.display =\n",
              "        google.colab.kernel.accessAllowed ? 'block' : 'none';\n",
              "    })();\n",
              "  </script>\n",
              "</div>\n",
              "    </div>\n",
              "  </div>\n"
            ],
            "application/vnd.google.colaboratory.intrinsic+json": {
              "type": "dataframe",
              "variable_name": "data",
              "summary": "{\n  \"name\": \"data\",\n  \"rows\": 6000,\n  \"fields\": [\n    {\n      \"column\": \"id\",\n      \"properties\": {\n        \"dtype\": \"number\",\n        \"std\": 1670,\n        \"min\": 0,\n        \"max\": 5499,\n        \"num_unique_values\": 5500,\n        \"samples\": [\n          4747,\n          1199,\n          5222\n        ],\n        \"semantic_type\": \"\",\n        \"description\": \"\"\n      }\n    },\n    {\n      \"column\": \"was_married\",\n      \"properties\": {\n        \"dtype\": \"number\",\n        \"std\": 0,\n        \"min\": 0,\n        \"max\": 1,\n        \"num_unique_values\": 2,\n        \"samples\": [\n          0,\n          1\n        ],\n        \"semantic_type\": \"\",\n        \"description\": \"\"\n      }\n    },\n    {\n      \"column\": \"children\",\n      \"properties\": {\n        \"dtype\": \"number\",\n        \"std\": 2.850284662859503,\n        \"min\": 0.0,\n        \"max\": 9.0,\n        \"num_unique_values\": 7,\n        \"samples\": [\n          4.0,\n          2.0\n        ],\n        \"semantic_type\": \"\",\n        \"description\": \"\"\n      }\n    },\n    {\n      \"column\": \"salary\",\n      \"properties\": {\n        \"dtype\": \"number\",\n        \"std\": 80221297.05740306,\n        \"min\": 1765712.353619084,\n        \"max\": 345927135.61149085,\n        \"num_unique_values\": 6000,\n        \"samples\": [\n          2030148.992508214,\n          23526409.701305974\n        ],\n        \"semantic_type\": \"\",\n        \"description\": \"\"\n      }\n    },\n    {\n      \"column\": \"sex\",\n      \"properties\": {\n        \"dtype\": \"number\",\n        \"std\": 0,\n        \"min\": 0,\n        \"max\": 1,\n        \"num_unique_values\": 2,\n        \"samples\": [\n          0,\n          1\n        ],\n        \"semantic_type\": \"\",\n        \"description\": \"\"\n      }\n    },\n    {\n      \"column\": \"age\",\n      \"properties\": {\n        \"dtype\": \"number\",\n        \"std\": 32.546372044788164,\n        \"min\": 2.0,\n        \"max\": 100.0,\n        \"num_unique_values\": 20,\n        \"samples\": [\n          82.0,\n          33.0\n        ],\n        \"semantic_type\": \"\",\n        \"description\": \"\"\n      }\n    },\n    {\n      \"column\": \"profession\",\n      \"properties\": {\n        \"dtype\": \"category\",\n        \"num_unique_values\": 9,\n        \"samples\": [\n          \"Healthcare\",\n          \"Doctor\"\n        ],\n        \"semantic_type\": \"\",\n        \"description\": \"\"\n      }\n    },\n    {\n      \"column\": \"home_cost\",\n      \"properties\": {\n        \"dtype\": \"number\",\n        \"std\": 312006.64268940827,\n        \"min\": 9824378.17956564,\n        \"max\": 20657915.51438855,\n        \"num_unique_values\": 5500,\n        \"samples\": [\n          10142087.622610103,\n          10127959.182073647\n        ],\n        \"semantic_type\": \"\",\n        \"description\": \"\"\n      }\n    },\n    {\n      \"column\": \"drive_info\",\n      \"properties\": {\n        \"dtype\": \"number\",\n        \"std\": 0.44449225551941024,\n        \"min\": 0.0,\n        \"max\": 1.0,\n        \"num_unique_values\": 2,\n        \"samples\": [\n          1.0,\n          0.0\n        ],\n        \"semantic_type\": \"\",\n        \"description\": \"\"\n      }\n    },\n    {\n      \"column\": \"happyness\",\n      \"properties\": {\n        \"dtype\": \"number\",\n        \"std\": 0.15372650797965168,\n        \"min\": 0.0,\n        \"max\": 1.0,\n        \"num_unique_values\": 6000,\n        \"samples\": [\n          0.4489957391292867,\n          0.4275951511826555\n        ],\n        \"semantic_type\": \"\",\n        \"description\": \"\"\n      }\n    }\n  ]\n}"
            }
          },
          "metadata": {},
          "execution_count": 14
        }
      ],
      "source": [
        "data_path = \"https://raw.githubusercontent.com/a-milenkin/mipt_data_science_2021/main/data/people_data_clustering.csv\"\n",
        "data = pd.read_csv(data_path, index_col=0)\n",
        "print(\"Размеры датасета\", data.shape)\n",
        "data.head(6)"
      ]
    },
    {
      "cell_type": "code",
      "execution_count": null,
      "metadata": {
        "id": "0LzH2jqdEJzn"
      },
      "outputs": [],
      "source": []
    },
    {
      "cell_type": "markdown",
      "metadata": {
        "id": "4l9ZA0tFEJzn"
      },
      "source": [
        "<div class=\"alert alert-info\">\n",
        "<b>Про Датасет</b>\n",
        "    \n",
        "Датасет представляет собой информацию по жителям некоторого города.\n",
        "\n",
        "* `was_married` - Был ли когда-либо женат/замужем\n",
        "* `children` - Количество детей\n",
        "* `salary` - Уровень зарплаты\n",
        "* `sex` - Пол (0 - женщина, 1 - мужчина)\n",
        "* `age` - Возраст\n",
        "* `home_cost` - Сумарная стоимость жилья/недвижимости\n",
        "* `Professon` - Профессия\n",
        "* `drive_info` - Есть ли водительские права\n",
        "* `happyness` - уровень счастья по результатам опроса\n",
        "    \n",
        "</div>"
      ]
    },
    {
      "cell_type": "code",
      "execution_count": null,
      "metadata": {
        "id": "gALNBuUMEJzn"
      },
      "outputs": [],
      "source": []
    },
    {
      "cell_type": "markdown",
      "metadata": {
        "id": "pL5mHQ8GEJzn"
      },
      "source": [
        "<div class=\"alert alert-info\">\n",
        "<b>Задание</b>\n",
        "\n",
        "Изучить датасет, выполнить задания и проверить некоторые гипотезы, предложенные ниже, используя только визуализацию."
      ]
    },
    {
      "cell_type": "code",
      "execution_count": null,
      "metadata": {
        "id": "OuvT-JDlEJzo"
      },
      "outputs": [],
      "source": []
    },
    {
      "cell_type": "markdown",
      "metadata": {
        "id": "FucdXcB_EJzo"
      },
      "source": [
        "# Чистка датасета\n",
        "* Есть ли дубли в данных? Если есть - удалите их (drop_duplicates).\n",
        "* Найти и удалить/отфильтровать выбросы по признаку `home_cost`. Таких точек около 5"
      ]
    },
    {
      "cell_type": "code",
      "execution_count": null,
      "metadata": {
        "id": "FUqlfG-xEJzo"
      },
      "outputs": [],
      "source": [
        "data = data.drop_duplicates()\n",
        "data['zscore_home'] = stats.zscore(data['home_cost'])\n",
        "data = data[(data['zscore_home'] < 3) & (data['zscore_home'] > -3)]"
      ]
    },
    {
      "cell_type": "markdown",
      "metadata": {
        "id": "ve7T5mR5EJzo"
      },
      "source": [
        "# Проверка гипотез"
      ]
    },
    {
      "cell_type": "markdown",
      "metadata": {
        "id": "r-ClU-DHEJzo"
      },
      "source": [
        "# Изучение датасета\n",
        "* Какие признаки численные?\n",
        "* Какие признаки категориальные?\n",
        "* Какие признаки имеют нормальное распределение?\n",
        "* Какие признаки бессмысленные?"
      ]
    },
    {
      "cell_type": "markdown",
      "metadata": {
        "id": "FoTDh7dDEJzo"
      },
      "source": [
        "<div class=\"alert alert-info\">\n",
        "    \n",
        "Перед вами те же гипотезы, которые были в прошлом домашнем задании. Вы уже научились проверять эти утверждения визуально. Теперь же, помимо визуальной состовляющей вам еще нужно применить подходящий статистический критерий, чтобы окончательно доказать или опровергнуть гипотезы на снове этих данных. В качестве уровня значимости принять 5%"
      ]
    },
    {
      "cell_type": "markdown",
      "metadata": {
        "id": "4D0a7qNlEJzo"
      },
      "source": [
        "* Правда ли женщины в среднем имеют более высокую зарплату, чем мужчины?"
      ]
    },
    {
      "cell_type": "code",
      "execution_count": null,
      "metadata": {
        "colab": {
          "base_uri": "https://localhost:8080/"
        },
        "id": "v2fE9kEOEJzp",
        "outputId": "bf79828b-c840-4c49-ac47-512a87761778"
      },
      "outputs": [
        {
          "output_type": "stream",
          "name": "stdout",
          "text": [
            "Statistics = 0.6738607883453369, P_value = 0.0\n",
            "Statistics = 0.8898751139640808, P_value = 0.0\n"
          ]
        }
      ],
      "source": [
        " sh_stats, sh_p_val = stats.shapiro(data['salary'][data['sex'] == 0])\n",
        " print(f'Statistics = {sh_stats}, P_value = {sh_p_val}')\n",
        " sh_stats, sh_p_val = stats.shapiro(data['salary'][data['sex'] == 1])\n",
        " print(f'Statistics = {sh_stats}, P_value = {sh_p_val}')"
      ]
    },
    {
      "cell_type": "markdown",
      "source": [
        "Зарплаты распределены ненормально, t-тест не подойдёт\n",
        "\n",
        "\n"
      ],
      "metadata": {
        "id": "SCt7ZZWzHWIU"
      }
    },
    {
      "cell_type": "code",
      "source": [
        "mean_w = data['salary'][data['sex'] == 0].mean()\n",
        "mean_m = data['salary'][data['sex'] == 1].mean()\n",
        "print(f'Средняя зарплата женщин:{mean_w}')\n",
        "print(f'Средняя зарплата мужчин:{mean_m}')\n",
        "mw_stats, mw_p_val = stats.mannwhitneyu(data['salary'][data['sex'] == 0], data['salary'][data['sex'] == 1])\n",
        "if mw_p_val < 0.05:\n",
        "  print('Распределения разные, отвергаем нулевую гипотезу')\n",
        "else:\n",
        "  print('Разницы между распределниями нет, либо они незначительны')"
      ],
      "metadata": {
        "colab": {
          "base_uri": "https://localhost:8080/"
        },
        "id": "QrtSknvLGWTn",
        "outputId": "b972bc31-bec6-452e-c2fd-c546b9ed1a0d"
      },
      "execution_count": null,
      "outputs": [
        {
          "output_type": "stream",
          "name": "stdout",
          "text": [
            "Средняя зарплата женщин:57721198.99095336\n",
            "Средняя зарплата мужчин:98385888.45746912\n",
            "Распределения разные, отвергаем нулевую гипотезу\n"
          ]
        }
      ]
    },
    {
      "cell_type": "markdown",
      "source": [
        "Мужчины получают в среднем больше"
      ],
      "metadata": {
        "id": "tgMYTNo3IR2O"
      }
    },
    {
      "cell_type": "markdown",
      "metadata": {
        "id": "nOGBKhBlEJzp"
      },
      "source": [
        "* Правда ли, что инженеры (Engineer) зарабатывают в среднем больше, чем люди из сферы развлечений (Entertainment)?"
      ]
    },
    {
      "cell_type": "code",
      "execution_count": null,
      "metadata": {
        "colab": {
          "base_uri": "https://localhost:8080/"
        },
        "id": "3P9PBOnnEJzp",
        "outputId": "9a55d830-a101-48d1-9581-b95ec340266f"
      },
      "outputs": [
        {
          "output_type": "stream",
          "name": "stdout",
          "text": [
            "Statistics = 0.9856693148612976, P_value = 4.934008757118136e-06\n",
            "Statistics = 0.9927714467048645, P_value = 0.002547936514019966\n"
          ]
        }
      ],
      "source": [
        "sh_stats, sh_p_val = stats.shapiro(data['salary'][data['profession'] == 'Engineer'])\n",
        "print(f'Statistics = {sh_stats}, P_value = {sh_p_val}')\n",
        "sh_stats, sh_p_val = stats.shapiro(data['salary'][data['profession'] == 'Entertainment'])\n",
        "print(f'Statistics = {sh_stats}, P_value = {sh_p_val}')"
      ]
    },
    {
      "cell_type": "markdown",
      "source": [
        "Распределения не нормальные"
      ],
      "metadata": {
        "id": "7o3tySwrKoY3"
      }
    },
    {
      "cell_type": "code",
      "source": [
        "mean_ent = data['salary'][data['profession'] == 'Entertainment'].mean()\n",
        "mean_eng = data['salary'][data['profession'] == 'Engineer'].mean()\n",
        "print(f'Средняя зарплата инженеров:{mean_eng}')\n",
        "print(f'Средняя зарплата людей из сферы развлечений:{mean_ent}')\n",
        "mw_stats, mw_p_val = stats.mannwhitneyu(data['salary'][data['profession'] == 'Entertainment'], data['salary'][data['profession'] == 'Engineer'])\n",
        "if mw_p_val < 0.05:\n",
        "  print('Распределения разные, отвергаем нулевую гипотезу')\n",
        "else:\n",
        "  print('Разницы между распределниями нет, либо они незначительны')"
      ],
      "metadata": {
        "colab": {
          "base_uri": "https://localhost:8080/"
        },
        "id": "vnp4PVGQKms0",
        "outputId": "30d40b5e-cca3-4c4e-9629-3e2ebaa4fcb1"
      },
      "execution_count": null,
      "outputs": [
        {
          "output_type": "stream",
          "name": "stdout",
          "text": [
            "Средняя зарплата инженеров:42162119.349546\n",
            "Средняя зарплата людей из сферы развлечений:194005269.10805008\n",
            "Распределения разные, отвергаем нулевую гипотезу\n"
          ]
        }
      ]
    },
    {
      "cell_type": "markdown",
      "source": [
        "Люди из сферы развлечений в среднем получают больше"
      ],
      "metadata": {
        "id": "Ipg7fotASUBa"
      }
    },
    {
      "cell_type": "markdown",
      "metadata": {
        "id": "0j7cuND4EJzp"
      },
      "source": [
        "* Правда ли, что те, у кого больше трех детей зарабатывают в среднем больше, чем те, у кого меньше или трое детей?"
      ]
    },
    {
      "cell_type": "code",
      "execution_count": null,
      "metadata": {
        "colab": {
          "base_uri": "https://localhost:8080/"
        },
        "id": "DWXiAwtmEJzp",
        "outputId": "11c294b2-7b12-4463-be0c-f9904e509857"
      },
      "outputs": [
        {
          "output_type": "stream",
          "name": "stdout",
          "text": [
            "Statistics = 0.9363863468170166, P_value = 2.2102065930872708e-28\n",
            "Statistics = 0.7600006461143494, P_value = 0.0\n"
          ]
        }
      ],
      "source": [
        "sh_stats, sh_p_val = stats.shapiro(data['salary'][data['children'] > 3])\n",
        "print(f'Statistics = {sh_stats}, P_value = {sh_p_val}')\n",
        "sh_stats, sh_p_val = stats.shapiro(data['salary'][data['children'] <= 3])\n",
        "print(f'Statistics = {sh_stats}, P_value = {sh_p_val}')"
      ]
    },
    {
      "cell_type": "markdown",
      "source": [
        "Распределение опять не нормальное, логарифмирование не помогло"
      ],
      "metadata": {
        "id": "nnoBU_fWYzL0"
      }
    },
    {
      "cell_type": "code",
      "source": [
        "data['children_gr'] = data['children'].apply(lambda x: 'more than 3' if x > 3 else '3 or less')\n",
        "boot_sal = []\n",
        "for _ in range(1500):\n",
        "  boot_mean = data.sample(frac = 1, replace = True).groupby('children_gr')['salary'].mean()\n",
        "  boot_sal.append(boot_mean)\n",
        "boot_sal = pd.DataFrame(boot_sal)\n",
        "sh_stats, sh_p_val = stats.shapiro(boot_sal['more than 3'])\n",
        "print(f'Statistics = {sh_stats}, P_value = {sh_p_val}')\n",
        "sh_stats, sh_p_val = stats.shapiro(boot_sal['3 or less'])\n",
        "print(f'Statistics = {sh_stats}, P_value = {sh_p_val}')\n",
        "# Теперь распределения нормальные, проведём t тест\n",
        "t_stats, t_p_val = stats.ttest_ind(boot_sal['more than 3'], boot_sal['3 or less'])\n",
        "print(f'Statistics = {t_stats}, P_value = {t_p_val}')\n",
        "if t_p_val < 0.05:\n",
        "  print('Распределения разные, зарплаты отличаются')\n",
        "else:\n",
        "  print('Зарплаты значимо не отличаются')\n",
        "mean_3ch = data['salary'][data['children'] > 3].mean()\n",
        "mean_n_3ch = data['salary'][data['children'] <= 3].mean()\n",
        "print(f\"Средняя зарплата многодетных = {mean_3ch}, а остальных = {mean_n_3ch}\")"
      ],
      "metadata": {
        "colab": {
          "base_uri": "https://localhost:8080/"
        },
        "id": "u9SZKienStts",
        "outputId": "48815203-5780-465c-a7e0-ed5863c8bd16"
      },
      "execution_count": null,
      "outputs": [
        {
          "output_type": "stream",
          "name": "stdout",
          "text": [
            "Statistics = 0.9982776641845703, P_value = 0.12752118706703186\n",
            "Statistics = 0.9988173246383667, P_value = 0.42375463247299194\n",
            "Statistics = 1028.9896872306983, P_value = 0.0\n",
            "Распределения разные, зарплаты отличаются\n",
            "Средняя зарплата многодетных = 119206817.62367998, а остальных = 67451770.23724644\n"
          ]
        }
      ]
    },
    {
      "cell_type": "markdown",
      "source": [
        "Зарплата многодетных выше в среднем\n"
      ],
      "metadata": {
        "id": "3TeezfQOhEKW"
      }
    },
    {
      "cell_type": "markdown",
      "metadata": {
        "id": "dvxUYVsCEJzp"
      },
      "source": [
        "* Правда ли, что дома художники (Artist) живут в домах, которые в среднем дороже или дешевле, чем дома адвокатов (Lawyer)?"
      ]
    },
    {
      "cell_type": "code",
      "execution_count": null,
      "metadata": {
        "colab": {
          "base_uri": "https://localhost:8080/"
        },
        "id": "coGj_QoZEJzq",
        "outputId": "603ce181-276b-4547-852f-826b6562df87"
      },
      "outputs": [
        {
          "output_type": "stream",
          "name": "stdout",
          "text": [
            "Statistics = 0.9975089430809021, P_value = 0.41669219732284546\n",
            "Statistics = 0.9976368546485901, P_value = 0.46600648760795593\n"
          ]
        }
      ],
      "source": [
        "sh_stats, sh_p_val = stats.shapiro(data['home_cost'][data['profession'] == 'Artist'])\n",
        "print(f'Statistics = {sh_stats}, P_value = {sh_p_val}')\n",
        "sh_stats, sh_p_val = stats.shapiro(data['home_cost'][data['profession'] == 'Lawyer'])\n",
        "print(f'Statistics = {sh_stats}, P_value = {sh_p_val}')"
      ]
    },
    {
      "cell_type": "markdown",
      "source": [
        "Распределения стоимости домов нормальные, используем t тест"
      ],
      "metadata": {
        "id": "V0y_Q9Ol8HyT"
      }
    },
    {
      "cell_type": "code",
      "source": [
        "t_stats, t_p_val = stats.ttest_ind(data['home_cost'][data['profession'] == 'Artist'], data['home_cost'][data['profession'] == 'Lawyer'])\n",
        "print(f'Statistics = {t_stats}, P_value = {t_p_val}')\n",
        "if t_p_val < 0.05:\n",
        "  print('Распределения разные, стоимости домов отличаются')\n",
        "else:\n",
        "  print('Стоимости домов значимо не отличаются')\n",
        "mean_a = data['home_cost'][data['profession'] == 'Artist'].mean()\n",
        "mean_l = data['home_cost'][data['profession'] == 'Lawyer'].mean()\n",
        "if mean_a > mean_l:\n",
        "  print('Дома художников в среднем дороже домов адвокатов')\n",
        "elif mean_l > mean_a:\n",
        "  print('Дома художников в среднем дешевле домов адвокатов')"
      ],
      "metadata": {
        "colab": {
          "base_uri": "https://localhost:8080/"
        },
        "id": "gOXDFyPq8QDz",
        "outputId": "bb3e8eb0-4ffe-41f1-a289-e54ad86bf71f"
      },
      "execution_count": null,
      "outputs": [
        {
          "output_type": "stream",
          "name": "stdout",
          "text": [
            "Statistics = -10.422866126030229, P_value = 1.6456526985141669e-24\n",
            "Распределения разные, стоимости домов отличаются\n",
            "Дома художников в среднем дешевле домов адвокатов\n"
          ]
        }
      ]
    },
    {
      "cell_type": "markdown",
      "metadata": {
        "id": "Vec2Zoa0EJzq"
      },
      "source": [
        "* Правда ли, что недвижимость у тех, кто когда либо был в браке в среднем дороже, чем у тех, кто никогда не был в браке?\n"
      ]
    },
    {
      "cell_type": "code",
      "execution_count": null,
      "metadata": {
        "colab": {
          "base_uri": "https://localhost:8080/"
        },
        "id": "LtAg6MMdEJzq",
        "outputId": "c5c79ca5-92a6-439c-bc71-ee0c23c55712"
      },
      "outputs": [
        {
          "output_type": "stream",
          "name": "stdout",
          "text": [
            "Statistics = 0.9987901449203491, P_value = 0.7847692966461182\n",
            "Statistics = 0.30959802865982056, P_value = 0.0\n"
          ]
        },
        {
          "output_type": "stream",
          "name": "stderr",
          "text": [
            "/usr/local/lib/python3.10/dist-packages/scipy/stats/_morestats.py:1882: UserWarning: p-value may not be accurate for N > 5000.\n",
            "  warnings.warn(\"p-value may not be accurate for N > 5000.\")\n"
          ]
        }
      ],
      "source": [
        "sh_stats, sh_p_val = stats.shapiro(data['home_cost'][data['was_married'] == 0])\n",
        "print(f'Statistics = {sh_stats}, P_value = {sh_p_val}')\n",
        "sh_stats, sh_p_val = stats.shapiro(data['home_cost'][data['was_married'] == 1])\n",
        "print(f'Statistics = {sh_stats}, P_value = {sh_p_val}')"
      ]
    },
    {
      "cell_type": "markdown",
      "source": [
        "В распределении домов людей, которые состояли в браке есть выбросы, из-за чего распределение не нормальное, уберём выбросы"
      ],
      "metadata": {
        "id": "zjehxEqm-ewR"
      }
    },
    {
      "cell_type": "code",
      "source": [
        "data['zscore_home'] = stats.zscore(data['home_cost'])\n",
        "data_new = data[(data['zscore_home'] < 3) & (data['zscore_home'] > -3)]\n",
        "sh_stats, sh_p_val = stats.shapiro(np.log2(data_new['home_cost'][data_new['was_married'] == 1]))\n",
        "print(f'Statistics = {sh_stats}, P_value = {sh_p_val}')"
      ],
      "metadata": {
        "colab": {
          "base_uri": "https://localhost:8080/"
        },
        "id": "lY8mUQ2w989t",
        "outputId": "f614ca55-d528-480d-f665-35d0a570b1ce"
      },
      "execution_count": null,
      "outputs": [
        {
          "output_type": "stream",
          "name": "stdout",
          "text": [
            "Statistics = 0.9930675029754639, P_value = 5.82152361527314e-15\n"
          ]
        },
        {
          "output_type": "stream",
          "name": "stderr",
          "text": [
            "/usr/local/lib/python3.10/dist-packages/scipy/stats/_morestats.py:1882: UserWarning: p-value may not be accurate for N > 5000.\n",
            "  warnings.warn(\"p-value may not be accurate for N > 5000.\")\n"
          ]
        }
      ]
    },
    {
      "cell_type": "markdown",
      "source": [
        "Даже без выбросов распределение не нормальное"
      ],
      "metadata": {
        "id": "dQEktpebAx7D"
      }
    },
    {
      "cell_type": "code",
      "source": [
        "mean_m = data['home_cost'][data['was_married'] == 1].mean()\n",
        "mean_no_m = data['home_cost'][data['was_married'] == 0].mean()\n",
        "print(f'Средняя стоимость домов в браке:{mean_m}')\n",
        "print(f'Средняя стоимость домов не в браке:{mean_no_m}')\n",
        "mw_stats, mw_p_val = stats.mannwhitneyu(data['home_cost'][data['was_married'] == 1], data['home_cost'][data['was_married'] == 0])\n",
        "if mw_p_val < 0.05:\n",
        "  print('Распределения разные, отвергаем нулевую гипотезу')\n",
        "else:\n",
        "  print('Разницы между распределниями нет, либо они незначительны')"
      ],
      "metadata": {
        "colab": {
          "base_uri": "https://localhost:8080/"
        },
        "id": "0jUt0nxrAiMv",
        "outputId": "f08a2630-ffe5-4cb4-b97e-5acf0767d3c0"
      },
      "execution_count": null,
      "outputs": [
        {
          "output_type": "stream",
          "name": "stdout",
          "text": [
            "Средняя стоимость домов в браке:10175852.353166087\n",
            "Средняя стоимость домов не в браке:10277031.34112589\n",
            "Распределения разные, отвергаем нулевую гипотезу\n"
          ]
        }
      ]
    },
    {
      "cell_type": "markdown",
      "source": [
        "Средняя стоимость домов тех, кто не был в браке выше, разница есть"
      ],
      "metadata": {
        "id": "3x4vvKSeCAJj"
      }
    },
    {
      "cell_type": "markdown",
      "metadata": {
        "id": "uX0m7kRCEJzq"
      },
      "source": [
        "* Правда ли, что мужчины в среднем чаще бывают в браке, чем женщины?\n",
        "\n",
        "**Подсказка** - Составьте матрицу смежности и воспользуйтесь критерием хи-квадрат из библиотеки scipy"
      ]
    },
    {
      "cell_type": "code",
      "execution_count": null,
      "metadata": {
        "colab": {
          "base_uri": "https://localhost:8080/"
        },
        "id": "KmCRgrQcEJzq",
        "outputId": "43adf1a2-9b23-4f01-e3f1-a7486272bcca"
      },
      "outputs": [
        {
          "output_type": "stream",
          "name": "stdout",
          "text": [
            "Зависимость наличия брака от пола есть\n",
            "Процентное соотношение мужчин в браке:0.9299924452279023, процентное соотношение женщин в браке:0.6697880729423361\n"
          ]
        }
      ],
      "source": [
        "data_piv = data.pivot_table(index = 'sex', columns = 'was_married', values = 'age', aggfunc = 'count')\n",
        "data_piv.rename(columns = {0: 'was not married', 1: 'was married'})\n",
        "chi2, p, dof, expected = stats.chi2_contingency(data_piv)\n",
        "if p <0.05:\n",
        "  print('Зависимость наличия брака от пола есть')\n",
        "else:\n",
        "  print('Зависимость наличия брака от пола нет')\n",
        "mean_m  = data['was_married'][data['sex'] == 1].mean()\n",
        "mean_w  = data['was_married'][data['sex'] == 0].mean()\n",
        "print(f'Процентное соотношение мужчин в браке:{mean_m}, процентное соотношение женщин в браке:{mean_w}')"
      ]
    },
    {
      "cell_type": "markdown",
      "metadata": {
        "id": "ibAM5XJhEJzr"
      },
      "source": [
        "Правда ли, что женщины с зарплатой выше медианной в среднем более счастливые, чем мужчины с зарплатой, которая выше средней?"
      ]
    },
    {
      "cell_type": "code",
      "execution_count": null,
      "metadata": {
        "colab": {
          "base_uri": "https://localhost:8080/"
        },
        "id": "p-2RCI3gEJzr",
        "outputId": "6564652e-f350-47a1-83c1-bab41c0e044b"
      },
      "outputs": [
        {
          "output_type": "stream",
          "name": "stdout",
          "text": [
            "Зависимость уровня счастья от пола нет\n"
          ]
        }
      ],
      "source": [
        "data_rich = data[(((data['sex'] == 0) & (data['salary'] > data[data['sex'] == 0]['salary'].median())) | ((data['sex'] == 1) & (data['salary'] > data[data['sex'] == 1]['salary'].mean())))]\n",
        "data_rich1 = data_rich.pivot_table(index = 'sex', values = 'happyness', aggfunc = 'mean')\n",
        "chi2, p, dof, expected = stats.chi2_contingency(data_rich1)\n",
        "if p <0.05:\n",
        "  print('Зависимость уровня счастья от пола есть')\n",
        "else:\n",
        "  print('Зависимость уровня счастья от пола нет')"
      ]
    }
  ],
  "metadata": {
    "kernelspec": {
      "display_name": "Python 3",
      "language": "python",
      "name": "python3"
    },
    "language_info": {
      "codemirror_mode": {
        "name": "ipython",
        "version": 3
      },
      "file_extension": ".py",
      "mimetype": "text/x-python",
      "name": "python",
      "nbconvert_exporter": "python",
      "pygments_lexer": "ipython3",
      "version": "3.8.5"
    },
    "toc": {
      "base_numbering": 1,
      "nav_menu": {},
      "number_sections": true,
      "sideBar": true,
      "skip_h1_title": false,
      "title_cell": "Table of Contents",
      "title_sidebar": "Contents",
      "toc_cell": false,
      "toc_position": {},
      "toc_section_display": true,
      "toc_window_display": false
    },
    "colab": {
      "provenance": []
    }
  },
  "nbformat": 4,
  "nbformat_minor": 0
}